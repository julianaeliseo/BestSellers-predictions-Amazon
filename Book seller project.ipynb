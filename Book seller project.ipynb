{
 "cells": [
  {
   "cell_type": "markdown",
   "metadata": {},
   "source": [
    "# Kaggle dataset for bestsellers in Amazon"
   ]
  },
  {
   "cell_type": "code",
   "execution_count": 66,
   "metadata": {},
   "outputs": [],
   "source": [
    "import pandas as pd\n",
    "df = pd.read_csv(\"./bestsellers.csv\") "
   ]
  },
  {
   "cell_type": "code",
   "execution_count": 67,
   "metadata": {},
   "outputs": [
    {
     "data": {
      "text/html": [
       "<div>\n",
       "<style scoped>\n",
       "    .dataframe tbody tr th:only-of-type {\n",
       "        vertical-align: middle;\n",
       "    }\n",
       "\n",
       "    .dataframe tbody tr th {\n",
       "        vertical-align: top;\n",
       "    }\n",
       "\n",
       "    .dataframe thead th {\n",
       "        text-align: right;\n",
       "    }\n",
       "</style>\n",
       "<table border=\"1\" class=\"dataframe\">\n",
       "  <thead>\n",
       "    <tr style=\"text-align: right;\">\n",
       "      <th></th>\n",
       "      <th>Name</th>\n",
       "      <th>Author</th>\n",
       "      <th>User Rating</th>\n",
       "      <th>Reviews</th>\n",
       "      <th>Price</th>\n",
       "      <th>Year</th>\n",
       "      <th>Genre</th>\n",
       "    </tr>\n",
       "  </thead>\n",
       "  <tbody>\n",
       "    <tr>\n",
       "      <th>0</th>\n",
       "      <td>10-Day Green Smoothie Cleanse</td>\n",
       "      <td>JJ Smith</td>\n",
       "      <td>4.7</td>\n",
       "      <td>17350</td>\n",
       "      <td>8</td>\n",
       "      <td>2016</td>\n",
       "      <td>Non Fiction</td>\n",
       "    </tr>\n",
       "    <tr>\n",
       "      <th>1</th>\n",
       "      <td>11/22/63: A Novel</td>\n",
       "      <td>Stephen King</td>\n",
       "      <td>4.6</td>\n",
       "      <td>2052</td>\n",
       "      <td>22</td>\n",
       "      <td>2011</td>\n",
       "      <td>Fiction</td>\n",
       "    </tr>\n",
       "    <tr>\n",
       "      <th>2</th>\n",
       "      <td>12 Rules for Life: An Antidote to Chaos</td>\n",
       "      <td>Jordan B. Peterson</td>\n",
       "      <td>4.7</td>\n",
       "      <td>18979</td>\n",
       "      <td>15</td>\n",
       "      <td>2018</td>\n",
       "      <td>Non Fiction</td>\n",
       "    </tr>\n",
       "    <tr>\n",
       "      <th>3</th>\n",
       "      <td>1984 (Signet Classics)</td>\n",
       "      <td>George Orwell</td>\n",
       "      <td>4.7</td>\n",
       "      <td>21424</td>\n",
       "      <td>6</td>\n",
       "      <td>2017</td>\n",
       "      <td>Fiction</td>\n",
       "    </tr>\n",
       "    <tr>\n",
       "      <th>4</th>\n",
       "      <td>5000 Awesome Facts (About Everything!) (Nation...</td>\n",
       "      <td>National Geographic Kids</td>\n",
       "      <td>4.8</td>\n",
       "      <td>7665</td>\n",
       "      <td>12</td>\n",
       "      <td>2019</td>\n",
       "      <td>Non Fiction</td>\n",
       "    </tr>\n",
       "    <tr>\n",
       "      <th>...</th>\n",
       "      <td>...</td>\n",
       "      <td>...</td>\n",
       "      <td>...</td>\n",
       "      <td>...</td>\n",
       "      <td>...</td>\n",
       "      <td>...</td>\n",
       "      <td>...</td>\n",
       "    </tr>\n",
       "    <tr>\n",
       "      <th>545</th>\n",
       "      <td>Wrecking Ball (Diary of a Wimpy Kid Book 14)</td>\n",
       "      <td>Jeff Kinney</td>\n",
       "      <td>4.9</td>\n",
       "      <td>9413</td>\n",
       "      <td>8</td>\n",
       "      <td>2019</td>\n",
       "      <td>Fiction</td>\n",
       "    </tr>\n",
       "    <tr>\n",
       "      <th>546</th>\n",
       "      <td>You Are a Badass: How to Stop Doubting Your Gr...</td>\n",
       "      <td>Jen Sincero</td>\n",
       "      <td>4.7</td>\n",
       "      <td>14331</td>\n",
       "      <td>8</td>\n",
       "      <td>2016</td>\n",
       "      <td>Non Fiction</td>\n",
       "    </tr>\n",
       "    <tr>\n",
       "      <th>547</th>\n",
       "      <td>You Are a Badass: How to Stop Doubting Your Gr...</td>\n",
       "      <td>Jen Sincero</td>\n",
       "      <td>4.7</td>\n",
       "      <td>14331</td>\n",
       "      <td>8</td>\n",
       "      <td>2017</td>\n",
       "      <td>Non Fiction</td>\n",
       "    </tr>\n",
       "    <tr>\n",
       "      <th>548</th>\n",
       "      <td>You Are a Badass: How to Stop Doubting Your Gr...</td>\n",
       "      <td>Jen Sincero</td>\n",
       "      <td>4.7</td>\n",
       "      <td>14331</td>\n",
       "      <td>8</td>\n",
       "      <td>2018</td>\n",
       "      <td>Non Fiction</td>\n",
       "    </tr>\n",
       "    <tr>\n",
       "      <th>549</th>\n",
       "      <td>You Are a Badass: How to Stop Doubting Your Gr...</td>\n",
       "      <td>Jen Sincero</td>\n",
       "      <td>4.7</td>\n",
       "      <td>14331</td>\n",
       "      <td>8</td>\n",
       "      <td>2019</td>\n",
       "      <td>Non Fiction</td>\n",
       "    </tr>\n",
       "  </tbody>\n",
       "</table>\n",
       "<p>550 rows × 7 columns</p>\n",
       "</div>"
      ],
      "text/plain": [
       "                                                  Name  \\\n",
       "0                        10-Day Green Smoothie Cleanse   \n",
       "1                                    11/22/63: A Novel   \n",
       "2              12 Rules for Life: An Antidote to Chaos   \n",
       "3                               1984 (Signet Classics)   \n",
       "4    5000 Awesome Facts (About Everything!) (Nation...   \n",
       "..                                                 ...   \n",
       "545       Wrecking Ball (Diary of a Wimpy Kid Book 14)   \n",
       "546  You Are a Badass: How to Stop Doubting Your Gr...   \n",
       "547  You Are a Badass: How to Stop Doubting Your Gr...   \n",
       "548  You Are a Badass: How to Stop Doubting Your Gr...   \n",
       "549  You Are a Badass: How to Stop Doubting Your Gr...   \n",
       "\n",
       "                       Author  User Rating  Reviews  Price  Year        Genre  \n",
       "0                    JJ Smith          4.7    17350      8  2016  Non Fiction  \n",
       "1                Stephen King          4.6     2052     22  2011      Fiction  \n",
       "2          Jordan B. Peterson          4.7    18979     15  2018  Non Fiction  \n",
       "3               George Orwell          4.7    21424      6  2017      Fiction  \n",
       "4    National Geographic Kids          4.8     7665     12  2019  Non Fiction  \n",
       "..                        ...          ...      ...    ...   ...          ...  \n",
       "545               Jeff Kinney          4.9     9413      8  2019      Fiction  \n",
       "546               Jen Sincero          4.7    14331      8  2016  Non Fiction  \n",
       "547               Jen Sincero          4.7    14331      8  2017  Non Fiction  \n",
       "548               Jen Sincero          4.7    14331      8  2018  Non Fiction  \n",
       "549               Jen Sincero          4.7    14331      8  2019  Non Fiction  \n",
       "\n",
       "[550 rows x 7 columns]"
      ]
     },
     "execution_count": 67,
     "metadata": {},
     "output_type": "execute_result"
    }
   ],
   "source": [
    "df"
   ]
  },
  {
   "cell_type": "code",
   "execution_count": 73,
   "metadata": {},
   "outputs": [],
   "source": [
    "#removing duplicates\n",
    "df1=df\n",
    "i=0\n",
    "for value in df1.duplicated(subset='Name', keep='first'): \n",
    "    if value == True:\n",
    "        df1 =  df1.drop([i])\n",
    "        i+=1\n",
    "    else:\n",
    "        i+=1"
   ]
  },
  {
   "cell_type": "code",
   "execution_count": 74,
   "metadata": {},
   "outputs": [
    {
     "data": {
      "text/html": [
       "<div>\n",
       "<style scoped>\n",
       "    .dataframe tbody tr th:only-of-type {\n",
       "        vertical-align: middle;\n",
       "    }\n",
       "\n",
       "    .dataframe tbody tr th {\n",
       "        vertical-align: top;\n",
       "    }\n",
       "\n",
       "    .dataframe thead th {\n",
       "        text-align: right;\n",
       "    }\n",
       "</style>\n",
       "<table border=\"1\" class=\"dataframe\">\n",
       "  <thead>\n",
       "    <tr style=\"text-align: right;\">\n",
       "      <th></th>\n",
       "      <th>Name</th>\n",
       "      <th>Author</th>\n",
       "      <th>User Rating</th>\n",
       "      <th>Reviews</th>\n",
       "      <th>Price</th>\n",
       "      <th>Year</th>\n",
       "      <th>Genre</th>\n",
       "    </tr>\n",
       "  </thead>\n",
       "  <tbody>\n",
       "    <tr>\n",
       "      <th>0</th>\n",
       "      <td>10-Day Green Smoothie Cleanse</td>\n",
       "      <td>JJ Smith</td>\n",
       "      <td>4.7</td>\n",
       "      <td>17350</td>\n",
       "      <td>8</td>\n",
       "      <td>2016</td>\n",
       "      <td>Non Fiction</td>\n",
       "    </tr>\n",
       "    <tr>\n",
       "      <th>1</th>\n",
       "      <td>11/22/63: A Novel</td>\n",
       "      <td>Stephen King</td>\n",
       "      <td>4.6</td>\n",
       "      <td>2052</td>\n",
       "      <td>22</td>\n",
       "      <td>2011</td>\n",
       "      <td>Fiction</td>\n",
       "    </tr>\n",
       "    <tr>\n",
       "      <th>2</th>\n",
       "      <td>12 Rules for Life: An Antidote to Chaos</td>\n",
       "      <td>Jordan B. Peterson</td>\n",
       "      <td>4.7</td>\n",
       "      <td>18979</td>\n",
       "      <td>15</td>\n",
       "      <td>2018</td>\n",
       "      <td>Non Fiction</td>\n",
       "    </tr>\n",
       "    <tr>\n",
       "      <th>3</th>\n",
       "      <td>1984 (Signet Classics)</td>\n",
       "      <td>George Orwell</td>\n",
       "      <td>4.7</td>\n",
       "      <td>21424</td>\n",
       "      <td>6</td>\n",
       "      <td>2017</td>\n",
       "      <td>Fiction</td>\n",
       "    </tr>\n",
       "    <tr>\n",
       "      <th>4</th>\n",
       "      <td>5000 Awesome Facts (About Everything!) (Nation...</td>\n",
       "      <td>National Geographic Kids</td>\n",
       "      <td>4.8</td>\n",
       "      <td>7665</td>\n",
       "      <td>12</td>\n",
       "      <td>2019</td>\n",
       "      <td>Non Fiction</td>\n",
       "    </tr>\n",
       "    <tr>\n",
       "      <th>...</th>\n",
       "      <td>...</td>\n",
       "      <td>...</td>\n",
       "      <td>...</td>\n",
       "      <td>...</td>\n",
       "      <td>...</td>\n",
       "      <td>...</td>\n",
       "      <td>...</td>\n",
       "    </tr>\n",
       "    <tr>\n",
       "      <th>538</th>\n",
       "      <td>Winter of the World: Book Two of the Century T...</td>\n",
       "      <td>Ken Follett</td>\n",
       "      <td>4.5</td>\n",
       "      <td>10760</td>\n",
       "      <td>15</td>\n",
       "      <td>2012</td>\n",
       "      <td>Fiction</td>\n",
       "    </tr>\n",
       "    <tr>\n",
       "      <th>539</th>\n",
       "      <td>Women Food and God: An Unexpected Path to Almo...</td>\n",
       "      <td>Geneen Roth</td>\n",
       "      <td>4.2</td>\n",
       "      <td>1302</td>\n",
       "      <td>11</td>\n",
       "      <td>2010</td>\n",
       "      <td>Non Fiction</td>\n",
       "    </tr>\n",
       "    <tr>\n",
       "      <th>540</th>\n",
       "      <td>Wonder</td>\n",
       "      <td>R. J. Palacio</td>\n",
       "      <td>4.8</td>\n",
       "      <td>21625</td>\n",
       "      <td>9</td>\n",
       "      <td>2013</td>\n",
       "      <td>Fiction</td>\n",
       "    </tr>\n",
       "    <tr>\n",
       "      <th>545</th>\n",
       "      <td>Wrecking Ball (Diary of a Wimpy Kid Book 14)</td>\n",
       "      <td>Jeff Kinney</td>\n",
       "      <td>4.9</td>\n",
       "      <td>9413</td>\n",
       "      <td>8</td>\n",
       "      <td>2019</td>\n",
       "      <td>Fiction</td>\n",
       "    </tr>\n",
       "    <tr>\n",
       "      <th>546</th>\n",
       "      <td>You Are a Badass: How to Stop Doubting Your Gr...</td>\n",
       "      <td>Jen Sincero</td>\n",
       "      <td>4.7</td>\n",
       "      <td>14331</td>\n",
       "      <td>8</td>\n",
       "      <td>2016</td>\n",
       "      <td>Non Fiction</td>\n",
       "    </tr>\n",
       "  </tbody>\n",
       "</table>\n",
       "<p>349 rows × 7 columns</p>\n",
       "</div>"
      ],
      "text/plain": [
       "                                                  Name  \\\n",
       "0                        10-Day Green Smoothie Cleanse   \n",
       "1                                    11/22/63: A Novel   \n",
       "2              12 Rules for Life: An Antidote to Chaos   \n",
       "3                               1984 (Signet Classics)   \n",
       "4    5000 Awesome Facts (About Everything!) (Nation...   \n",
       "..                                                 ...   \n",
       "538  Winter of the World: Book Two of the Century T...   \n",
       "539  Women Food and God: An Unexpected Path to Almo...   \n",
       "540                                             Wonder   \n",
       "545       Wrecking Ball (Diary of a Wimpy Kid Book 14)   \n",
       "546  You Are a Badass: How to Stop Doubting Your Gr...   \n",
       "\n",
       "                       Author  User Rating  Reviews  Price  Year        Genre  \n",
       "0                    JJ Smith          4.7    17350      8  2016  Non Fiction  \n",
       "1                Stephen King          4.6     2052     22  2011      Fiction  \n",
       "2          Jordan B. Peterson          4.7    18979     15  2018  Non Fiction  \n",
       "3               George Orwell          4.7    21424      6  2017      Fiction  \n",
       "4    National Geographic Kids          4.8     7665     12  2019  Non Fiction  \n",
       "..                        ...          ...      ...    ...   ...          ...  \n",
       "538               Ken Follett          4.5    10760     15  2012      Fiction  \n",
       "539               Geneen Roth          4.2     1302     11  2010  Non Fiction  \n",
       "540             R. J. Palacio          4.8    21625      9  2013      Fiction  \n",
       "545               Jeff Kinney          4.9     9413      8  2019      Fiction  \n",
       "546               Jen Sincero          4.7    14331      8  2016  Non Fiction  \n",
       "\n",
       "[349 rows x 7 columns]"
      ]
     },
     "execution_count": 74,
     "metadata": {},
     "output_type": "execute_result"
    }
   ],
   "source": [
    "df1"
   ]
  },
  {
   "cell_type": "code",
   "execution_count": 75,
   "metadata": {},
   "outputs": [
    {
     "data": {
      "text/plain": [
       "0      False\n",
       "1      False\n",
       "2      False\n",
       "3      False\n",
       "4      False\n",
       "       ...  \n",
       "538    False\n",
       "539    False\n",
       "540    False\n",
       "545    False\n",
       "546    False\n",
       "Length: 349, dtype: bool"
      ]
     },
     "execution_count": 75,
     "metadata": {},
     "output_type": "execute_result"
    }
   ],
   "source": [
    "df1.duplicated()"
   ]
  },
  {
   "cell_type": "code",
   "execution_count": 76,
   "metadata": {},
   "outputs": [
    {
     "data": {
      "text/html": [
       "<div>\n",
       "<style scoped>\n",
       "    .dataframe tbody tr th:only-of-type {\n",
       "        vertical-align: middle;\n",
       "    }\n",
       "\n",
       "    .dataframe tbody tr th {\n",
       "        vertical-align: top;\n",
       "    }\n",
       "\n",
       "    .dataframe thead th {\n",
       "        text-align: right;\n",
       "    }\n",
       "</style>\n",
       "<table border=\"1\" class=\"dataframe\">\n",
       "  <thead>\n",
       "    <tr style=\"text-align: right;\">\n",
       "      <th></th>\n",
       "      <th>Name</th>\n",
       "      <th>User Rating</th>\n",
       "      <th>Price</th>\n",
       "      <th>Year</th>\n",
       "      <th>Genre</th>\n",
       "    </tr>\n",
       "  </thead>\n",
       "  <tbody>\n",
       "    <tr>\n",
       "      <th>0</th>\n",
       "      <td>10-Day Green Smoothie Cleanse</td>\n",
       "      <td>4.7</td>\n",
       "      <td>8</td>\n",
       "      <td>2016</td>\n",
       "      <td>Non Fiction</td>\n",
       "    </tr>\n",
       "    <tr>\n",
       "      <th>1</th>\n",
       "      <td>11/22/63: A Novel</td>\n",
       "      <td>4.6</td>\n",
       "      <td>22</td>\n",
       "      <td>2011</td>\n",
       "      <td>Fiction</td>\n",
       "    </tr>\n",
       "    <tr>\n",
       "      <th>2</th>\n",
       "      <td>12 Rules for Life: An Antidote to Chaos</td>\n",
       "      <td>4.7</td>\n",
       "      <td>15</td>\n",
       "      <td>2018</td>\n",
       "      <td>Non Fiction</td>\n",
       "    </tr>\n",
       "    <tr>\n",
       "      <th>3</th>\n",
       "      <td>1984 (Signet Classics)</td>\n",
       "      <td>4.7</td>\n",
       "      <td>6</td>\n",
       "      <td>2017</td>\n",
       "      <td>Fiction</td>\n",
       "    </tr>\n",
       "    <tr>\n",
       "      <th>4</th>\n",
       "      <td>5000 Awesome Facts (About Everything!) (Nation...</td>\n",
       "      <td>4.8</td>\n",
       "      <td>12</td>\n",
       "      <td>2019</td>\n",
       "      <td>Non Fiction</td>\n",
       "    </tr>\n",
       "    <tr>\n",
       "      <th>...</th>\n",
       "      <td>...</td>\n",
       "      <td>...</td>\n",
       "      <td>...</td>\n",
       "      <td>...</td>\n",
       "      <td>...</td>\n",
       "    </tr>\n",
       "    <tr>\n",
       "      <th>538</th>\n",
       "      <td>Winter of the World: Book Two of the Century T...</td>\n",
       "      <td>4.5</td>\n",
       "      <td>15</td>\n",
       "      <td>2012</td>\n",
       "      <td>Fiction</td>\n",
       "    </tr>\n",
       "    <tr>\n",
       "      <th>539</th>\n",
       "      <td>Women Food and God: An Unexpected Path to Almo...</td>\n",
       "      <td>4.2</td>\n",
       "      <td>11</td>\n",
       "      <td>2010</td>\n",
       "      <td>Non Fiction</td>\n",
       "    </tr>\n",
       "    <tr>\n",
       "      <th>540</th>\n",
       "      <td>Wonder</td>\n",
       "      <td>4.8</td>\n",
       "      <td>9</td>\n",
       "      <td>2013</td>\n",
       "      <td>Fiction</td>\n",
       "    </tr>\n",
       "    <tr>\n",
       "      <th>545</th>\n",
       "      <td>Wrecking Ball (Diary of a Wimpy Kid Book 14)</td>\n",
       "      <td>4.9</td>\n",
       "      <td>8</td>\n",
       "      <td>2019</td>\n",
       "      <td>Fiction</td>\n",
       "    </tr>\n",
       "    <tr>\n",
       "      <th>546</th>\n",
       "      <td>You Are a Badass: How to Stop Doubting Your Gr...</td>\n",
       "      <td>4.7</td>\n",
       "      <td>8</td>\n",
       "      <td>2016</td>\n",
       "      <td>Non Fiction</td>\n",
       "    </tr>\n",
       "  </tbody>\n",
       "</table>\n",
       "<p>349 rows × 5 columns</p>\n",
       "</div>"
      ],
      "text/plain": [
       "                                                  Name  User Rating  Price  \\\n",
       "0                        10-Day Green Smoothie Cleanse          4.7      8   \n",
       "1                                    11/22/63: A Novel          4.6     22   \n",
       "2              12 Rules for Life: An Antidote to Chaos          4.7     15   \n",
       "3                               1984 (Signet Classics)          4.7      6   \n",
       "4    5000 Awesome Facts (About Everything!) (Nation...          4.8     12   \n",
       "..                                                 ...          ...    ...   \n",
       "538  Winter of the World: Book Two of the Century T...          4.5     15   \n",
       "539  Women Food and God: An Unexpected Path to Almo...          4.2     11   \n",
       "540                                             Wonder          4.8      9   \n",
       "545       Wrecking Ball (Diary of a Wimpy Kid Book 14)          4.9      8   \n",
       "546  You Are a Badass: How to Stop Doubting Your Gr...          4.7      8   \n",
       "\n",
       "     Year        Genre  \n",
       "0    2016  Non Fiction  \n",
       "1    2011      Fiction  \n",
       "2    2018  Non Fiction  \n",
       "3    2017      Fiction  \n",
       "4    2019  Non Fiction  \n",
       "..    ...          ...  \n",
       "538  2012      Fiction  \n",
       "539  2010  Non Fiction  \n",
       "540  2013      Fiction  \n",
       "545  2019      Fiction  \n",
       "546  2016  Non Fiction  \n",
       "\n",
       "[349 rows x 5 columns]"
      ]
     },
     "execution_count": 76,
     "metadata": {},
     "output_type": "execute_result"
    }
   ],
   "source": [
    "# removing collumns that I don't need\n",
    "df2 = df1.drop(['Author','Reviews'],axis=1)\n",
    "df2"
   ]
  },
  {
   "cell_type": "code",
   "execution_count": 77,
   "metadata": {},
   "outputs": [
    {
     "data": {
      "text/plain": [
       "Name            object\n",
       "User Rating    float64\n",
       "Price            int64\n",
       "Year             int64\n",
       "Genre           object\n",
       "dtype: object"
      ]
     },
     "execution_count": 77,
     "metadata": {},
     "output_type": "execute_result"
    }
   ],
   "source": [
    "df2.dtypes"
   ]
  },
  {
   "cell_type": "code",
   "execution_count": 78,
   "metadata": {},
   "outputs": [
    {
     "data": {
      "text/html": [
       "<div>\n",
       "<style scoped>\n",
       "    .dataframe tbody tr th:only-of-type {\n",
       "        vertical-align: middle;\n",
       "    }\n",
       "\n",
       "    .dataframe tbody tr th {\n",
       "        vertical-align: top;\n",
       "    }\n",
       "\n",
       "    .dataframe thead th {\n",
       "        text-align: right;\n",
       "    }\n",
       "</style>\n",
       "<table border=\"1\" class=\"dataframe\">\n",
       "  <thead>\n",
       "    <tr style=\"text-align: right;\">\n",
       "      <th></th>\n",
       "      <th>Name</th>\n",
       "      <th>User Rating</th>\n",
       "      <th>Price</th>\n",
       "      <th>Year</th>\n",
       "      <th>Genre</th>\n",
       "    </tr>\n",
       "  </thead>\n",
       "  <tbody>\n",
       "    <tr>\n",
       "      <th>82</th>\n",
       "      <td>Dog Man: A Tale of Two Kitties: From the Creat...</td>\n",
       "      <td>4.9</td>\n",
       "      <td>8</td>\n",
       "      <td>2017</td>\n",
       "      <td>Fiction</td>\n",
       "    </tr>\n",
       "    <tr>\n",
       "      <th>174</th>\n",
       "      <td>Humans of New York : Stories</td>\n",
       "      <td>4.9</td>\n",
       "      <td>17</td>\n",
       "      <td>2015</td>\n",
       "      <td>Non Fiction</td>\n",
       "    </tr>\n",
       "    <tr>\n",
       "      <th>146</th>\n",
       "      <td>Goodnight</td>\n",
       "      <td>4.9</td>\n",
       "      <td>7</td>\n",
       "      <td>2012</td>\n",
       "      <td>Fiction</td>\n",
       "    </tr>\n",
       "    <tr>\n",
       "      <th>289</th>\n",
       "      <td>Rush Revere and the First Patriots: Time-Trave...</td>\n",
       "      <td>4.9</td>\n",
       "      <td>12</td>\n",
       "      <td>2014</td>\n",
       "      <td>Fiction</td>\n",
       "    </tr>\n",
       "    <tr>\n",
       "      <th>40</th>\n",
       "      <td>Brown Bear</td>\n",
       "      <td>4.9</td>\n",
       "      <td>5</td>\n",
       "      <td>2017</td>\n",
       "      <td>Fiction</td>\n",
       "    </tr>\n",
       "    <tr>\n",
       "      <th>...</th>\n",
       "      <td>...</td>\n",
       "      <td>...</td>\n",
       "      <td>...</td>\n",
       "      <td>...</td>\n",
       "      <td>...</td>\n",
       "    </tr>\n",
       "    <tr>\n",
       "      <th>392</th>\n",
       "      <td>The Goldfinch: A Novel (Pulitzer Prize for Fic...</td>\n",
       "      <td>3.9</td>\n",
       "      <td>20</td>\n",
       "      <td>2013</td>\n",
       "      <td>Fiction</td>\n",
       "    </tr>\n",
       "    <tr>\n",
       "      <th>22</th>\n",
       "      <td>Allegiant</td>\n",
       "      <td>3.9</td>\n",
       "      <td>13</td>\n",
       "      <td>2013</td>\n",
       "      <td>Fiction</td>\n",
       "    </tr>\n",
       "    <tr>\n",
       "      <th>106</th>\n",
       "      <td>Fifty Shades of Grey: Book One of the Fifty Sh...</td>\n",
       "      <td>3.8</td>\n",
       "      <td>14</td>\n",
       "      <td>2012</td>\n",
       "      <td>Fiction</td>\n",
       "    </tr>\n",
       "    <tr>\n",
       "      <th>132</th>\n",
       "      <td>Go Set a Watchman: A Novel</td>\n",
       "      <td>3.6</td>\n",
       "      <td>19</td>\n",
       "      <td>2015</td>\n",
       "      <td>Fiction</td>\n",
       "    </tr>\n",
       "    <tr>\n",
       "      <th>353</th>\n",
       "      <td>The Casual Vacancy</td>\n",
       "      <td>3.3</td>\n",
       "      <td>12</td>\n",
       "      <td>2012</td>\n",
       "      <td>Fiction</td>\n",
       "    </tr>\n",
       "  </tbody>\n",
       "</table>\n",
       "<p>349 rows × 5 columns</p>\n",
       "</div>"
      ],
      "text/plain": [
       "                                                  Name  User Rating  Price  \\\n",
       "82   Dog Man: A Tale of Two Kitties: From the Creat...          4.9      8   \n",
       "174                       Humans of New York : Stories          4.9     17   \n",
       "146                                          Goodnight          4.9      7   \n",
       "289  Rush Revere and the First Patriots: Time-Trave...          4.9     12   \n",
       "40                                          Brown Bear          4.9      5   \n",
       "..                                                 ...          ...    ...   \n",
       "392  The Goldfinch: A Novel (Pulitzer Prize for Fic...          3.9     20   \n",
       "22                                           Allegiant          3.9     13   \n",
       "106  Fifty Shades of Grey: Book One of the Fifty Sh...          3.8     14   \n",
       "132                         Go Set a Watchman: A Novel          3.6     19   \n",
       "353                                 The Casual Vacancy          3.3     12   \n",
       "\n",
       "     Year        Genre  \n",
       "82   2017      Fiction  \n",
       "174  2015  Non Fiction  \n",
       "146  2012      Fiction  \n",
       "289  2014      Fiction  \n",
       "40   2017      Fiction  \n",
       "..    ...          ...  \n",
       "392  2013      Fiction  \n",
       "22   2013      Fiction  \n",
       "106  2012      Fiction  \n",
       "132  2015      Fiction  \n",
       "353  2012      Fiction  \n",
       "\n",
       "[349 rows x 5 columns]"
      ]
     },
     "execution_count": 78,
     "metadata": {},
     "output_type": "execute_result"
    }
   ],
   "source": [
    "df3=df2\n",
    "df4 = df3.sort_values(by='User Rating', ascending=False)\n",
    "df4"
   ]
  },
  {
   "cell_type": "code",
   "execution_count": 79,
   "metadata": {},
   "outputs": [
    {
     "data": {
      "text/plain": [
       "False"
      ]
     },
     "execution_count": 79,
     "metadata": {},
     "output_type": "execute_result"
    }
   ],
   "source": [
    "df4.isnull().values.any()"
   ]
  },
  {
   "cell_type": "code",
   "execution_count": 80,
   "metadata": {},
   "outputs": [
    {
     "name": "stdout",
     "output_type": "stream",
     "text": [
      "82     4.9\n",
      "174    4.9\n",
      "146    4.9\n",
      "289    4.9\n",
      "40     4.9\n",
      "      ... \n",
      "392    3.9\n",
      "22     3.9\n",
      "106    3.8\n",
      "132    3.6\n",
      "353    3.3\n",
      "Name: User Rating, Length: 349, dtype: float64\n",
      "     Year Genre\n",
      "82   2017     0\n",
      "174  2015     1\n",
      "146  2012     0\n",
      "289  2014     0\n",
      "40   2017     0\n",
      "..    ...   ...\n",
      "392  2013     0\n",
      "22   2013     0\n",
      "106  2012     0\n",
      "132  2015     0\n",
      "353  2012     0\n",
      "\n",
      "[349 rows x 2 columns]\n"
     ]
    }
   ],
   "source": [
    "#is it possible given a genre/year, to predict the user rating?\n",
    "y = df4['User Rating']\n",
    "df5 = df4\n",
    "df5[\"Genre\"]= df5[\"Genre\"].str.replace(\"Non Fiction\", \"1\")\n",
    "df5[\"Genre\"]= df5[\"Genre\"].str.replace(\"Fiction\", \"0\")\n",
    "\n",
    "# now fiction is 0 and non fiction is 1 \n",
    "\n",
    "x = df5.drop(['User Rating','Name',\"Price\"],axis=1)\n",
    "\n",
    "pd.reset_option(\"max_rows\")\n",
    "print(y)\n",
    "print(x)"
   ]
  },
  {
   "cell_type": "code",
   "execution_count": 81,
   "metadata": {},
   "outputs": [
    {
     "data": {
      "text/plain": [
       "array([4.44375   , 4.60588235])"
      ]
     },
     "execution_count": 81,
     "metadata": {},
     "output_type": "execute_result"
    }
   ],
   "source": [
    "from sklearn.tree import DecisionTreeRegressor\n",
    "model = DecisionTreeRegressor()\n",
    "model.fit(x,y)\n",
    "predictions = model.predict([[ 2012,0], [2010,0]])\n",
    "predictions"
   ]
  },
  {
   "cell_type": "code",
   "execution_count": 82,
   "metadata": {},
   "outputs": [],
   "source": [
    "# this prediction is telling me that people that like non fiction books\n",
    "# have a preference for books that were published in 2010 \n",
    "# rather than the ones from 2012"
   ]
  },
  {
   "cell_type": "code",
   "execution_count": 83,
   "metadata": {},
   "outputs": [
    {
     "data": {
      "text/plain": [
       "array([4.44375   , 4.53333333])"
      ]
     },
     "execution_count": 83,
     "metadata": {},
     "output_type": "execute_result"
    }
   ],
   "source": [
    "predictions = model.predict([[ 2012,0], [2012,1]])\n",
    "predictions"
   ]
  },
  {
   "cell_type": "code",
   "execution_count": 84,
   "metadata": {},
   "outputs": [
    {
     "data": {
      "text/plain": [
       "array([4.65882353, 4.57647059, 4.44375   , 4.58571429, 4.60588235,\n",
       "       4.59166667])"
      ]
     },
     "execution_count": 84,
     "metadata": {},
     "output_type": "execute_result"
    }
   ],
   "source": [
    "# this prediction tells me that people liked more fiction books from 2012 \n",
    "# than the non fiction ones\n",
    "predictions = model.predict([[2014,0], [2013,0], [2012,0], [2011,0], [2010,0], [2009,0]])\n",
    "predictions"
   ]
  },
  {
   "cell_type": "code",
   "execution_count": 17,
   "metadata": {},
   "outputs": [],
   "source": [
    "from sklearn import tree"
   ]
  },
  {
   "cell_type": "code",
   "execution_count": 18,
   "metadata": {},
   "outputs": [
    {
     "data": {
      "text/plain": [
       "[Text(167.4, 201.90857142857143, 'X[0] <= 2013.5\\nmse = 0.051\\nsamples = 550\\nvalue = 4.618'),\n",
       " Text(80.81379310344828, 170.84571428571428, 'X[1] <= 0.5\\nmse = 0.056\\nsamples = 250\\nvalue = 4.557'),\n",
       " Text(46.179310344827584, 139.78285714285715, 'X[0] <= 2011.5\\nmse = 0.08\\nsamples = 110\\nvalue = 4.573'),\n",
       " Text(23.089655172413792, 108.72, 'X[0] <= 2009.5\\nmse = 0.039\\nsamples = 65\\nvalue = 4.608'),\n",
       " Text(11.544827586206896, 77.65714285714284, 'mse = 0.048\\nsamples = 24\\nvalue = 4.592'),\n",
       " Text(34.63448275862069, 77.65714285714284, 'X[0] <= 2010.5\\nmse = 0.034\\nsamples = 41\\nvalue = 4.617'),\n",
       " Text(23.089655172413792, 46.59428571428572, 'mse = 0.038\\nsamples = 20\\nvalue = 4.615'),\n",
       " Text(46.179310344827584, 46.59428571428572, 'mse = 0.03\\nsamples = 21\\nvalue = 4.619'),\n",
       " Text(69.26896551724138, 108.72, 'X[0] <= 2012.5\\nmse = 0.134\\nsamples = 45\\nvalue = 4.522'),\n",
       " Text(57.72413793103448, 77.65714285714284, 'mse = 0.143\\nsamples = 21\\nvalue = 4.495'),\n",
       " Text(80.81379310344828, 77.65714285714284, 'mse = 0.124\\nsamples = 24\\nvalue = 4.546'),\n",
       " Text(115.44827586206895, 139.78285714285715, 'X[0] <= 2009.5\\nmse = 0.038\\nsamples = 140\\nvalue = 4.545'),\n",
       " Text(103.90344827586206, 108.72, 'mse = 0.033\\nsamples = 26\\nvalue = 4.577'),\n",
       " Text(126.99310344827586, 108.72, 'X[0] <= 2011.5\\nmse = 0.038\\nsamples = 114\\nvalue = 4.538'),\n",
       " Text(103.90344827586206, 77.65714285714284, 'X[0] <= 2010.5\\nmse = 0.037\\nsamples = 59\\nvalue = 4.517'),\n",
       " Text(92.35862068965517, 46.59428571428572, 'mse = 0.032\\nsamples = 30\\nvalue = 4.52'),\n",
       " Text(115.44827586206895, 46.59428571428572, 'mse = 0.043\\nsamples = 29\\nvalue = 4.514'),\n",
       " Text(150.08275862068965, 77.65714285714284, 'X[0] <= 2012.5\\nmse = 0.039\\nsamples = 55\\nvalue = 4.56'),\n",
       " Text(138.53793103448277, 46.59428571428572, 'mse = 0.035\\nsamples = 29\\nvalue = 4.559'),\n",
       " Text(161.62758620689655, 46.59428571428572, 'mse = 0.043\\nsamples = 26\\nvalue = 4.562'),\n",
       " Text(253.98620689655172, 170.84571428571428, 'X[1] <= 0.5\\nmse = 0.042\\nsamples = 300\\nvalue = 4.669'),\n",
       " Text(207.80689655172412, 139.78285714285715, 'X[0] <= 2015.5\\nmse = 0.053\\nsamples = 130\\nvalue = 4.712'),\n",
       " Text(184.71724137931034, 108.72, 'X[0] <= 2014.5\\nmse = 0.076\\nsamples = 46\\nvalue = 4.639'),\n",
       " Text(173.17241379310343, 77.65714285714284, 'mse = 0.058\\nsamples = 29\\nvalue = 4.631'),\n",
       " Text(196.26206896551724, 77.65714285714284, 'mse = 0.106\\nsamples = 17\\nvalue = 4.653'),\n",
       " Text(230.8965517241379, 108.72, 'X[0] <= 2018.5\\nmse = 0.036\\nsamples = 84\\nvalue = 4.752'),\n",
       " Text(219.35172413793103, 77.65714285714284, 'X[0] <= 2016.5\\nmse = 0.041\\nsamples = 64\\nvalue = 4.731'),\n",
       " Text(207.80689655172412, 46.59428571428572, 'mse = 0.06\\nsamples = 19\\nvalue = 4.716'),\n",
       " Text(230.8965517241379, 46.59428571428572, 'X[0] <= 2017.5\\nmse = 0.032\\nsamples = 45\\nvalue = 4.738'),\n",
       " Text(219.35172413793103, 15.531428571428563, 'mse = 0.029\\nsamples = 24\\nvalue = 4.738'),\n",
       " Text(242.44137931034481, 15.531428571428563, 'mse = 0.036\\nsamples = 21\\nvalue = 4.738'),\n",
       " Text(242.44137931034481, 77.65714285714284, 'mse = 0.014\\nsamples = 20\\nvalue = 4.82'),\n",
       " Text(300.1655172413793, 139.78285714285715, 'X[0] <= 2018.5\\nmse = 0.031\\nsamples = 170\\nvalue = 4.636'),\n",
       " Text(288.6206896551724, 108.72, 'X[0] <= 2016.5\\nmse = 0.032\\nsamples = 140\\nvalue = 4.626'),\n",
       " Text(265.5310344827586, 77.65714285714284, 'X[0] <= 2014.5\\nmse = 0.031\\nsamples = 85\\nvalue = 4.64'),\n",
       " Text(253.98620689655172, 46.59428571428572, 'mse = 0.035\\nsamples = 21\\nvalue = 4.61'),\n",
       " Text(277.07586206896553, 46.59428571428572, 'X[0] <= 2015.5\\nmse = 0.03\\nsamples = 64\\nvalue = 4.65'),\n",
       " Text(265.5310344827586, 15.531428571428563, 'mse = 0.027\\nsamples = 33\\nvalue = 4.645'),\n",
       " Text(288.6206896551724, 15.531428571428563, 'mse = 0.033\\nsamples = 31\\nvalue = 4.655'),\n",
       " Text(311.7103448275862, 77.65714285714284, 'X[0] <= 2017.5\\nmse = 0.031\\nsamples = 55\\nvalue = 4.604'),\n",
       " Text(300.1655172413793, 46.59428571428572, 'mse = 0.03\\nsamples = 26\\nvalue = 4.588'),\n",
       " Text(323.2551724137931, 46.59428571428572, 'mse = 0.032\\nsamples = 29\\nvalue = 4.617'),\n",
       " Text(311.7103448275862, 108.72, 'mse = 0.022\\nsamples = 30\\nvalue = 4.687')]"
      ]
     },
     "execution_count": 18,
     "metadata": {},
     "output_type": "execute_result"
    },
    {
     "data": {
      "image/png": "[encoded data removed]",
      "text/plain": [
       "<Figure size 432x288 with 1 Axes>"
      ]
     },
     "metadata": {
      "needs_background": "light"
     },
     "output_type": "display_data"
    }
   ],
   "source": [
    "tree.plot_tree(model)"
   ]
  },
  {
   "cell_type": "code",
   "execution_count": 19,
   "metadata": {},
   "outputs": [
    {
     "name": "stdout",
     "output_type": "stream",
     "text": [
      "     Year Genre  User Rating\n",
      "431  2016     1          4.9\n",
      "87   2018     0          4.9\n",
      "85   2019     0          4.9\n",
      "84   2019     0          4.9\n",
      "83   2018     0          4.9\n",
      "..    ...   ...          ...\n",
      "22   2013     0          3.9\n",
      "107  2013     0          3.8\n",
      "106  2012     0          3.8\n",
      "132  2015     0          3.6\n",
      "353  2012     0          3.3\n",
      "\n",
      "[550 rows x 3 columns]\n"
     ]
    }
   ],
   "source": [
    "data = {'Year':  x['Year'],\n",
    "        'Genre': x['Genre'],\n",
    "        'User Rating': y}\n",
    "\n",
    "df15 = pd.DataFrame (data, columns = ['Year','Genre','User Rating'])\n",
    "\n",
    "print (df15)"
   ]
  },
  {
   "cell_type": "code",
   "execution_count": 48,
   "metadata": {},
   "outputs": [
    {
     "data": {
      "text/plain": [
       "'bestsellers.pdf'"
      ]
     },
     "execution_count": 48,
     "metadata": {},
     "output_type": "execute_result"
    }
   ],
   "source": [
    "import graphviz\n",
    "dot_data = df15\n",
    "dot_data = tree.export_graphviz(model, out_file=None)\n",
    "graph = graphviz.Source(dot_data)\n",
    "graph.render(\"bestsellers\")\n",
    "graph.view()\n",
    "\n",
    "#the mse is tiny.\n",
    "\n",
    "#decision tree model can be seen on a pdf file (bestsellers.pdf)."
   ]
  },
  {
   "cell_type": "code",
   "execution_count": 91,
   "metadata": {},
   "outputs": [],
   "source": [
    "# is it possible to predict what kind of book will sell more? fiction or non fiction?\n",
    "\n",
    "predictions_fiction = model.predict([[2010,0], [2011,0], [2012,0], [2013,0], [2014,0], [2015,0],[2016,0],[2017,0],[2018,0],[2019,0]])\n",
    "predictions_nonfiction = model.predict([[2010,1], [2011,1], [2012,1], [2013,1], [2014,1], [2015,1],[2016,1],[2017,1],[2018,1],[2019,1]])"
   ]
  },
  {
   "cell_type": "code",
   "execution_count": 111,
   "metadata": {},
   "outputs": [
    {
     "name": "stdout",
     "output_type": "stream",
     "text": [
      "[4.60588235 4.58571429 4.44375    4.57647059 4.65882353 4.52222222\n",
      " 4.7        4.70666667 4.69090909 4.78888889]\n",
      "[4.53913043 4.48823529 4.53333333 4.6        4.63       4.66666667\n",
      " 4.7125     4.59166667 4.62222222 4.7       ]\n"
     ]
    },
    {
     "data": {
      "text/plain": [
       "10"
      ]
     },
     "execution_count": 111,
     "metadata": {},
     "output_type": "execute_result"
    }
   ],
   "source": [
    "print(predictions_fiction)\n",
    "print(predictions_nonfiction)\n",
    "\n",
    "year =[]\n",
    "year =['2010','2011','2012','2013','2014','2015','2016','2017','2018','2019']\n",
    "lpf= list(predictions_fiction)\n",
    "lpnf= list(predictions_nonfiction)\n",
    "\n",
    "len(year)"
   ]
  },
  {
   "cell_type": "code",
   "execution_count": 120,
   "metadata": {},
   "outputs": [
    {
     "data": {
      "text/plain": [
       "<matplotlib.legend.Legend at 0x1f4844d2910>"
      ]
     },
     "execution_count": 120,
     "metadata": {},
     "output_type": "execute_result"
    },
    {
     "data": {
      "image/png": "[encoded data removed]",
      "text/plain": [
       "<Figure size 432x288 with 1 Axes>"
      ]
     },
     "metadata": {
      "needs_background": "light"
     },
     "output_type": "display_data"
    }
   ],
   "source": [
    "fig, ax = plt.subplots() \n",
    "ax.plot(year,lpnf,label='nonfiction')\n",
    "ax.plot(year,lpf,label='fiction')\n",
    "ax.legend()\n"
   ]
  },
  {
   "cell_type": "code",
   "execution_count": null,
   "metadata": {},
   "outputs": [],
   "source": [
    "# It must be safe to assume that for fiction books the curve has ups and downs with increasingly values. \n",
    "# While the gap for non fiction between peaks is larger.\n",
    "# that means fiction books published within the last ~10 years had a user rating of ~~4.45 min and max of ~~4.8.\n",
    "# for non fiction a min ~~4.4 and a max ~~4.7. That tells us two things:\n",
    "# - fiction books are more popular than non fiction ones\n",
    "# - non fiction books public is a safer investment"
   ]
  }
 ],
 "metadata": {
  "kernelspec": {
   "display_name": "Python 3",
   "language": "python",
   "name": "python3"
  },
  "language_info": {
   "codemirror_mode": {
    "name": "ipython",
    "version": 3
   },
   "file_extension": ".py",
   "mimetype": "text/x-python",
   "name": "python",
   "nbconvert_exporter": "python",
   "pygments_lexer": "ipython3",
   "version": "3.8.3"
  }
 },
 "nbformat": 4,
 "nbformat_minor": 4
}
